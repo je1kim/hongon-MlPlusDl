{
 "cells": [
  {
   "cell_type": "markdown",
   "id": "11f7955d-5b4a-4289-b661-abbc4bbe7ae4",
   "metadata": {},
   "source": [
    "## 5.3 트리의 앙상블\n",
    "\n",
    "목적: 앙상블 학습이 무엇인지 이해하고 다양한 앙상블 학습 알고리즘을 실습을 통해 학습"
   ]
  },
  {
   "cell_type": "markdown",
   "id": "d0733589-a11a-46b0-8b15-77a8b3fcf8a7",
   "metadata": {},
   "source": [
    "### 정형 데이터와 비정형 데이터\n",
    "\n",
    "- 정형 데이터(structured data): 어떤 구조로 되어 있는 자료로 엑셀이나 csv, 데이터베이스에 저장하기 쉬움\n",
    "- 비정형 데이터(unstructured data): 책의 글, 디지털카메라로 찍은 사진, 핸드폰으로 듣는 디지털 음악 등이 이에 속함"
   ]
  },
  {
   "cell_type": "markdown",
   "id": "a253707a-7a5a-4eb5-83c9-f6d5775a3aa6",
   "metadata": {},
   "source": [
    "-> 정현 데이터를 다루는 데 가장 뛰어난 성과를 내는 알고리즘이 <strong>앙상블 학습(ensemble learning)</strong> 이라고 함"
   ]
  },
  {
   "cell_type": "markdown",
   "id": "ad230983-c6a6-49f6-9ba0-dec0fca6a5ae",
   "metadata": {},
   "source": [
    "### 랜덤 포레스트(Random Forest)\n",
    "\n",
    "랜덤 포레스트는 랜덤하게 샘플을 추출하여 훈련 데이터를 만드는데, 이때 한 샘플이 중복되어 추출될 수도 있다.\n",
    "\n",
    "예를 들어, 1,000개 샘플이 들어 있는 가방에서 100개의 샘플을 뽑는다면 먼저 1개를 뽑고, 뽑았던 1개를 다시 가방에 넣는 식이다.\n",
    "\n",
    "이렇게 만들어지 데이터 샘플을 <strong>부트스트랩 샘플(bootstrap sample)</strong> 이라고 한다.\n",
    "\n",
    "다시 말해, 부트스트랩은 데이터 세트에서 중복을 허용하여 데이터를 샘플링하는 방식을 의미한다."
   ]
  },
  {
   "cell_type": "code",
   "execution_count": 4,
   "id": "80514ad1-fe92-4965-aa9e-6ae1de189c2e",
   "metadata": {},
   "outputs": [],
   "source": [
    "# 와인 분류하는 문제에 적용\n",
    "\n",
    "import numpy as np\n",
    "import pandas as pd\n",
    "from sklearn.model_selection import train_test_split\n",
    "\n",
    "wine   = pd.read_csv(\"https://bit.ly/wine_csv_data\")\n",
    "data   = wine[[\"alcohol\", \"sugar\", \"pH\"]].to_numpy()\n",
    "target = wine[\"class\"].to_numpy()\n",
    "train_input, test_input, train_target, test_target = train_test_split(data, target, test_size=0.2, random_state=42)"
   ]
  },
  {
   "cell_type": "code",
   "execution_count": 6,
   "id": "4e6f9fa0-573c-4550-a70d-6da4db2b5ce2",
   "metadata": {},
   "outputs": [],
   "source": [
    "#  cross_validate()를 사용하여 교차 검증 수행\n",
    "\n",
    "from sklearn.model_selection import cross_validate\n",
    "from sklearn.ensemble import RandomForestClassifier\n",
    "\n",
    "rf     = RandomForestClassifier(n_jobs=-1, random_state=42)\n",
    "scores = cross_validate(rf, train_input, train_target, return_train_score=True, n_jobs=-1)"
   ]
  },
  {
   "cell_type": "code",
   "execution_count": 7,
   "id": "55ecd1cf-a9ee-4ed1-86e1-9de57d85a477",
   "metadata": {},
   "outputs": [
    {
     "name": "stdout",
     "output_type": "stream",
     "text": [
      "0.9973541965122431 0.8905151032797809\n"
     ]
    }
   ],
   "source": [
    "print(np.mean(scores[\"train_score\"]), np.mean(scores[\"test_score\"]))"
   ]
  },
  {
   "cell_type": "code",
   "execution_count": 8,
   "id": "c7801bfa-b9a8-492c-a8bb-fabb5da07b6d",
   "metadata": {},
   "outputs": [
    {
     "name": "stdout",
     "output_type": "stream",
     "text": [
      "[0.23167441 0.50039841 0.26792718]\n"
     ]
    }
   ],
   "source": [
    "rf.fit(train_input, train_target)\n",
    "print(rf.feature_importances_)"
   ]
  },
  {
   "cell_type": "markdown",
   "id": "8b8e7c11-3947-4c9c-8243-2b3ec5adf377",
   "metadata": {},
   "source": [
    "RandomForesetClassifier에는 자체적으로 모델을 평가할 수 있는데, \n",
    "\n",
    "평가할 때 부트스트랩 샘플에 포함되지 않고 남은 샘플, 즉 OOB(out of Bag) 샘플을 가지고 평가할 수 있다."
   ]
  },
  {
   "cell_type": "code",
   "execution_count": 10,
   "id": "7915866b-e0c3-4604-b26b-88fd8b62f67f",
   "metadata": {},
   "outputs": [
    {
     "name": "stdout",
     "output_type": "stream",
     "text": [
      "0.8934000384837406\n"
     ]
    }
   ],
   "source": [
    "rf = RandomForestClassifier(oob_score=True, n_jobs=-1, random_state=42)\n",
    "rf.fit(train_input, train_target)\n",
    "print(rf.oob_score_) # 이를 사용하면 교차 검증 대신 사용 가능 -> 훈련 세트에 더 많은 샘플을 사용할 수 있음"
   ]
  },
  {
   "cell_type": "markdown",
   "id": "77696cb2-0af1-4f58-add8-5fab2455ec2b",
   "metadata": {},
   "source": [
    "### 엑스트라 트리(Extra tree)\n",
    "\n",
    "엑스트라 트리는 전체 특성 중에 일부 특성을 랜덤하게 선택하여 노드를 분할하는 데 사용한다.\n",
    "\n",
    "랜덤포레스트와 엑스트라 트리의 차이점은 부트스트랩을 사용하지 않는다는 점이다. 즉 각 결정 트리를 만들 때 전체 훈련 세트를 사용한다.\n",
    "\n",
    "대신 노드를 분할할 때 가장 좋은 분할을 찾는 것이 아니라 무작위로 분할한다.\n",
    "\n",
    "<br>\n",
    "\n",
    "하나의 결정 트리에서 특성을 무작위로 분할한다면 성능이 낮아지겠지만 많은 트리를 앙상블 하기 때문에 과대적합을 막고 점증 세트의 점수를 높이는 효과가 있다."
   ]
  },
  {
   "cell_type": "code",
   "execution_count": 11,
   "id": "9b4a49c9-5c36-4272-8fea-fc1a1992bcac",
   "metadata": {},
   "outputs": [],
   "source": [
    "from sklearn.ensemble import ExtraTreesClassifier\n",
    "\n",
    "et     = ExtraTreesClassifier(n_jobs=-1, random_state=42)\n",
    "scores = cross_validate(et, train_input, train_target, return_train_score=True, n_jobs=-1)"
   ]
  },
  {
   "cell_type": "code",
   "execution_count": 14,
   "id": "ff71d3f5-e4b1-48dc-aaaf-b7b53883e0d2",
   "metadata": {},
   "outputs": [
    {
     "name": "stdout",
     "output_type": "stream",
     "text": [
      "0.9974503966084433 0.8887848893166506\n"
     ]
    }
   ],
   "source": [
    "print(np.mean(scores[\"train_score\"]), np.mean(scores[\"test_score\"]))"
   ]
  },
  {
   "cell_type": "markdown",
   "id": "975925e9-cdf3-4d2c-bc83-ceb7028a96b3",
   "metadata": {},
   "source": [
    "보통 엑스트라 트리가 무작위성이 좀 더 크기 때문에 랜덤 포레스트보다 더 많은 결정 트리를 훈련해야 한다.\n",
    "\n",
    "하지만 랜덤하게 노드를 분할하기 때문에 빠른 계산 속도가 엑스트라 트리의 장점이다."
   ]
  },
  {
   "cell_type": "code",
   "execution_count": 16,
   "id": "7e5d5625-093b-42dc-82b4-503310f1a990",
   "metadata": {},
   "outputs": [
    {
     "name": "stdout",
     "output_type": "stream",
     "text": [
      "[0.20183568 0.52242907 0.27573525]\n"
     ]
    }
   ],
   "source": [
    "# 특성 중요도\n",
    "# 알코올 도수, 당도, pH 순서\n",
    "\n",
    "et.fit(train_input, train_target)\n",
    "print(et.feature_importances_)"
   ]
  },
  {
   "cell_type": "markdown",
   "id": "a2949c21-7d84-4da1-8254-4e584871d15f",
   "metadata": {},
   "source": [
    "### 그레이디언트 부스팅(Gradient Boosting)\n",
    "\n",
    "그레디언트 부스틍은 깊이가 얕은 결정 트리를 사용하여 이전 트리의 오차를 보완하는 방식으로 앙상블 하는 방법이다.\n",
    "\n",
    "사이킷런에서는 기본적으로 깊이가 3인 결정 트리를 100개 사용한다.\n",
    "\n",
    "깊이가 얕은 결정 트리를 사용하기 때문에 과대적합에 강하고 일반적으로 높은 일반화 성능을 기대할 수 있다."
   ]
  },
  {
   "cell_type": "code",
   "execution_count": 20,
   "id": "f89d8902-81cd-41d0-b323-5fedaccfd6fa",
   "metadata": {},
   "outputs": [],
   "source": [
    "from sklearn.ensemble import GradientBoostingClassifier\n",
    "\n",
    "gb     = GradientBoostingClassifier(random_state=42)\n",
    "scores = cross_validate(gb, train_input, train_target, return_train_score=True, n_jobs=-1)"
   ]
  },
  {
   "cell_type": "code",
   "execution_count": 21,
   "id": "4b594943-1a5f-4267-af43-78ce7be34091",
   "metadata": {},
   "outputs": [
    {
     "name": "stdout",
     "output_type": "stream",
     "text": [
      "0.8881086892152563 0.8720430147331015\n"
     ]
    }
   ],
   "source": [
    "print(np.mean(scores[\"train_score\"]), np.mean(scores[\"test_score\"]))"
   ]
  },
  {
   "cell_type": "markdown",
   "id": "2764ea7a-fa8d-44cd-89c3-43a2f9bc3d05",
   "metadata": {},
   "source": [
    "위 결과는 과대적합이 되지 않았다. 그레이디언트 부스팅은 결정 트리의 개수를 늘려도 과대적합에 매우 강하다.\n",
    "\n",
    "학습률을 증가시키고 트리의 개수를 늘리면 조금 더 성능이 향상될 수 있다."
   ]
  },
  {
   "cell_type": "code",
   "execution_count": 26,
   "id": "a2a83ca4-e692-4471-a903-a873422ece6a",
   "metadata": {},
   "outputs": [],
   "source": [
    "# 결정 트리 수 : 500, 학습률 : 0.2 (기본 0.1)\n",
    "gb     = GradientBoostingClassifier(n_estimators=500, learning_rate=0.2, random_state=42) \n",
    "scores = cross_validate(gb, train_input, train_target, return_train_score=True, n_jobs=-1)"
   ]
  },
  {
   "cell_type": "code",
   "execution_count": 27,
   "id": "fbe1b724-0865-45e3-bb24-779a6cb2ee00",
   "metadata": {},
   "outputs": [
    {
     "name": "stdout",
     "output_type": "stream",
     "text": [
      "0.9464595437171814 0.8780082549788999\n"
     ]
    }
   ],
   "source": [
    "print(np.mean(scores[\"train_score\"]), np.mean(scores[\"test_score\"]))"
   ]
  },
  {
   "cell_type": "code",
   "execution_count": 28,
   "id": "18a5eefd-bb33-4336-ac3d-6f61af3e166d",
   "metadata": {},
   "outputs": [
    {
     "name": "stdout",
     "output_type": "stream",
     "text": [
      "[0.15872278 0.68010884 0.16116839]\n"
     ]
    }
   ],
   "source": [
    "gb.fit(train_input, train_target)\n",
    "print(gb.feature_importances_)"
   ]
  },
  {
   "cell_type": "markdown",
   "id": "67f3573d-5ecd-48da-a78d-5f0ebff25bda",
   "metadata": {},
   "source": [
    "### 히스토그램 기반 그레이디언트 부스팅(Histogram-based Graident Boosting)\n",
    "\n",
    "히스토그램 기반 그레이디언트 부스팅은 정형 데이터를 다루는 머신러닝 알고리즘 중에 가장 인기가 높은 알고리즘이다.\n",
    "\n",
    "히스토그램 기반 그레이디언트 부스팅은 번저 입력 특성을 256개의 구간으로 나눈다. 따라서 노드를 분할할 때 최적의 분할을 매우 빠르게 찾을 수 있다.\n",
    "\n",
    "또한, 256개의 구간 중에 하나를 떼어 높고 누락된 값을 위해서 사용한다.\n",
    "\n",
    "따라서 입력에 누락된 특성이 있떠라도 이를 따로 전처리할 필요가 없다."
   ]
  },
  {
   "cell_type": "code",
   "execution_count": 33,
   "id": "d460a660-9af4-4acf-9d79-5851a4fa41e8",
   "metadata": {},
   "outputs": [],
   "source": [
    "from sklearn.experimental import enable_hist_gradient_boosting\n",
    "from sklearn.ensemble import HistGradientBoostingClassifier\n",
    "\n",
    "hgb    = HistGradientBoostingClassifier(random_state=42)\n",
    "scores = cross_validate(hgb, train_input, train_target, return_train_score=True)"
   ]
  },
  {
   "cell_type": "code",
   "execution_count": 35,
   "id": "5801df74-5ca9-45ac-b878-2addb5aeb641",
   "metadata": {},
   "outputs": [
    {
     "name": "stdout",
     "output_type": "stream",
     "text": [
      "0.9321723946453317 0.8801241948619236\n"
     ]
    }
   ],
   "source": [
    "print(np.mean(scores[\"train_score\"]), np.mean(scores[\"test_score\"]))"
   ]
  },
  {
   "cell_type": "code",
   "execution_count": 36,
   "id": "98df99d3-9cb7-4180-9d29-1bc49147039c",
   "metadata": {},
   "outputs": [],
   "source": [
    "from sklearn.inspection import permutation_importance\n",
    "\n",
    "hgb.fit(train_input, train_target)\n",
    "result = permutation_importance(hgb, train_input, train_target, n_repeats=10, random_state=42, n_jobs=-1)"
   ]
  },
  {
   "cell_type": "code",
   "execution_count": 38,
   "id": "b7fb6050-635e-4c93-a872-3205febadf5a",
   "metadata": {},
   "outputs": [
    {
     "name": "stdout",
     "output_type": "stream",
     "text": [
      "[0.08876275 0.23438522 0.08027708]\n"
     ]
    }
   ],
   "source": [
    "print(result.importances_mean) # 특성의 중요도, 평균, 표준편차"
   ]
  },
  {
   "cell_type": "code",
   "execution_count": 39,
   "id": "f22a7270-ee47-4df0-a922-7efbf5141dbd",
   "metadata": {},
   "outputs": [],
   "source": [
    "result = permutation_importance(hgb, test_input, test_target, n_repeats=10, random_state=42, n_jobs=-1)"
   ]
  },
  {
   "cell_type": "code",
   "execution_count": 40,
   "id": "d0772e27-d322-4cbf-bfad-8f6bc8288850",
   "metadata": {},
   "outputs": [
    {
     "name": "stdout",
     "output_type": "stream",
     "text": [
      "[0.05969231 0.20238462 0.049     ]\n"
     ]
    }
   ],
   "source": [
    "print(result.importances_mean) # 특성의 중요도, 평균, 표준편차"
   ]
  },
  {
   "cell_type": "code",
   "execution_count": 41,
   "id": "2794fa1a-367d-4740-89b5-711deb384685",
   "metadata": {},
   "outputs": [
    {
     "name": "stdout",
     "output_type": "stream",
     "text": [
      "0.8723076923076923\n"
     ]
    }
   ],
   "source": [
    "print(hgb.score(test_input, test_target))"
   ]
  },
  {
   "cell_type": "markdown",
   "id": "906883ee-ea48-40cd-8951-058dd01c86bc",
   "metadata": {},
   "source": [
    "그밖에 히스토그램 기반 알고리즘은 여럿 있는데 대표적으로 \n",
    "\n",
    "XGBoot 와  MS 만든 LightGBM 이 있다. "
   ]
  },
  {
   "cell_type": "code",
   "execution_count": null,
   "id": "f3feaf4e-3db2-45ca-bc1d-47cdd32355e9",
   "metadata": {},
   "outputs": [],
   "source": []
  },
  {
   "cell_type": "code",
   "execution_count": null,
   "id": "075601c1-3ef2-4a1c-b2e7-7b5be9b2e077",
   "metadata": {},
   "outputs": [],
   "source": []
  }
 ],
 "metadata": {
  "kernelspec": {
   "display_name": "Python 3 (ipykernel)",
   "language": "python",
   "name": "python3"
  },
  "language_info": {
   "codemirror_mode": {
    "name": "ipython",
    "version": 3
   },
   "file_extension": ".py",
   "mimetype": "text/x-python",
   "name": "python",
   "nbconvert_exporter": "python",
   "pygments_lexer": "ipython3",
   "version": "3.11.5"
  }
 },
 "nbformat": 4,
 "nbformat_minor": 5
}

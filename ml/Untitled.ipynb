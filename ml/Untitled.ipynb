{
 "cells": [
  {
   "cell_type": "code",
   "execution_count": 2,
   "id": "d45994cc-569e-4a3b-a10e-ec6c68a38af4",
   "metadata": {},
   "outputs": [],
   "source": [
    "from pyproj import Transformer"
   ]
  },
  {
   "cell_type": "code",
   "execution_count": 7,
   "id": "2038b72a-badd-4379-a702-047a9ccdae0d",
   "metadata": {},
   "outputs": [],
   "source": [
    "origin_lon = 306.97\n",
    "origin_lat = 52.43\n",
    "# Transform COSMO rotated grid coordinates into unrotated coordinates\n",
    "rotated_to_unrotated = Transformer.from_crs( \n",
    "    '+proj=longlat',\n",
    "    '+proj=ob_tran +o_proj=longlat +lon_0=-180 +o_lon_p={} +o_lat_p={}'\\\n",
    "    .format(-180+origin_lon, 90-origin_lat), \n",
    "    always_xy=True)"
   ]
  },
  {
   "cell_type": "code",
   "execution_count": 15,
   "id": "0d9d0cef-859a-4f96-8b34-e01b6221858c",
   "metadata": {},
   "outputs": [],
   "source": [
    "# Transform unrotated coordinates into the desired CRS\n",
    "unrotated_to_CRS = Transformer.from_crs( \n",
    "    '+proj=longlat',\n",
    "    'epsg:4326',\n",
    "    always_xy=True)"
   ]
  },
  {
   "cell_type": "code",
   "execution_count": 19,
   "id": "8161cb91-f859-42af-bbed-d998f5758ba4",
   "metadata": {},
   "outputs": [
    {
     "name": "stdout",
     "output_type": "stream",
     "text": [
      "[(-53.03000000000001, 52.42999999999999), (-51.352155978707984, 53.4183944378248)]\n"
     ]
    }
   ],
   "source": [
    "# Perform the two rotations in successive order\n",
    "coordinates=[(0,0), (1,1)]\n",
    "transformed_coordinates=[]\n",
    "transformed_coordinates2=[]\n",
    "for pt in rotated_to_unrotated.itransform(coordinates):\n",
    "    transformed_coordinates.append(unrotated_to_CRS.transform(*pt) )\n",
    "print(transformed_coordinates)"
   ]
  },
  {
   "cell_type": "code",
   "execution_count": 18,
   "id": "8db5a0a8-a6b3-4055-810d-7d5ef98292dc",
   "metadata": {},
   "outputs": [
    {
     "name": "stdout",
     "output_type": "stream",
     "text": [
      "[(-53.03000000000001, 52.43000000000002), (-51.352155978708005, 53.41839443782482), (-53.03000000000001, 52.43000000000002), (-51.352155978708005, 53.41839443782482)]\n"
     ]
    }
   ],
   "source": [
    "# Transform COSMO rotated grid into the desired CRS\n",
    "rotated_to_CRS = Transformer.from_crs(\n",
    "    '+proj=ob_tran +o_proj=longlat +lon_0={} +o_lon_p=-180 +o_lat_p={}'.format(-180+origin_lon, 90+origin_lat),\n",
    "    'epsg:4326',\n",
    "    always_xy=True)\n",
    "for pt in rotated_to_CRS.itransform(coordinates):\n",
    "    transformed_coordinates2.append(pt)\n",
    "print(transformed_coordinates2)"
   ]
  },
  {
   "cell_type": "code",
   "execution_count": null,
   "id": "9b0e5efc-65bc-4ac0-8a29-88c0b3f0d8aa",
   "metadata": {},
   "outputs": [],
   "source": []
  }
 ],
 "metadata": {
  "kernelspec": {
   "display_name": "Python 3 (ipykernel)",
   "language": "python",
   "name": "python3"
  },
  "language_info": {
   "codemirror_mode": {
    "name": "ipython",
    "version": 3
   },
   "file_extension": ".py",
   "mimetype": "text/x-python",
   "name": "python",
   "nbconvert_exporter": "python",
   "pygments_lexer": "ipython3",
   "version": "3.11.7"
  }
 },
 "nbformat": 4,
 "nbformat_minor": 5
}

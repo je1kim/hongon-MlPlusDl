{
 "cells": [
  {
   "cell_type": "markdown",
   "id": "0fa7bf4b-6633-46c5-a4f9-25f096ed9763",
   "metadata": {},
   "source": [
    "## 4.2 확률적 경사 하강법\n",
    "\n",
    "목적: 경사 하강법 알고리즘을 이해하고 대량의 데이터에서 분류 모델을 훈련하는 방법 학습"
   ]
  },
  {
   "cell_type": "markdown",
   "id": "231cd06f-08f6-40a4-a01c-11f323845b3e",
   "metadata": {},
   "source": [
    "점진적 학습(= 온라인 학습): 새로운 데이터에 대해서만 조금씩 훈련하는 방법을 의미하며, 대표적인 점진적 학습 알고리즘은 <strong>학률적 경사 하강법(Stochatic Gradient Descentt)</strong>이다."
   ]
  },
  {
   "cell_type": "markdown",
   "id": "09e86ca2-32c6-4d93-9524-d7b03ee55ba9",
   "metadata": {},
   "source": [
    "#### 확률적 경사 하강법\n",
    "\n",
    "경사 하강법은 경사를 따라 내려가는 방법을 의미하며, 원하는 지점에 빠르게 도달하는 것을 목표로 한다.\n",
    "\n",
    "경사 하강법은 가장 가파른 길을 찾아 내려오는 것도 중요하지만 조금씩 내려오는 것도 중요하다.(그렇지 않을 경우 물웅덩이를 만나거나 오히려 올라갈 수 있다.)\n",
    "\n",
    "이때 확률적 경사 하강법에서 확률적이란, 훈련 세트에서 랜덤하게 골라 가장 가파른 기을 찾는 것을 의미한다.\n",
    "\n",
    "<strong>다시 말해, 훈련 세트에서 랜덤하게 하나의 샘플을 선택하여 가파른 경사를 조금씩 내려와 원하는 목표치에 도달하는 것을 확률적 경사 하강법이라 한다.</strong>"
   ]
  },
  {
   "cell_type": "markdown",
   "id": "ae8b0bf1-657c-4abe-a3d6-54e3d6ab8976",
   "metadata": {},
   "source": [
    "Q) 확률적 경사 하강법과 신경망 알고리즘\n",
    "> 확률적 경사 하강법을 꼭 사용하는 알고리즘이 있다.<br>\n",
    "바로 신경망 알고리즘 이다. <br>\n",
    "신경망은 일반적으로 많은 데이터를 사용하기 때문에 한 번에 모든 데이터를 사용하기 어렵다. 또 모델이 매우 복잡하기 때문에 수학적인 방법으로 해답을 얻기 어렵다.<br>\n",
    "신경망 모델이 확률적 경사 하강법이나 미니배치 경사 하강법을 사용한다는 점을 꼭 기억하자."
   ]
  },
  {
   "cell_type": "markdown",
   "id": "795fa3f8-4d32-41d5-94f0-43d5e8216a8a",
   "metadata": {},
   "source": [
    "#### 손실 함수\n",
    "\n",
    "손실 함수(loss function)은 어떤 문제에서 머신러닝 알고리즘이 얼마나 엉터리인지를 특정하는 기준이다.\n",
    "\n",
    "손실 함수는 정확도가 될 수 없다. 손실 함수는 연속적이여야 한다(경사 하강법은 조금씩 내려오는 것을 생각하자 <-> 듬성듬성 내려올 수 없다.)"
   ]
  },
  {
   "cell_type": "markdown",
   "id": "9257a3cc-0438-4508-9ac9-f5939bfe4539",
   "metadata": {},
   "source": [
    "Q) 손실 함수와 비용 함수\n",
    "> 비용 함수(cose function)는 손실 함수의 다른 말이다. 엄밀히 말하면 손실 함수는 샘플 하나에 대한 손실을 정의하고 비용 함수는 훈련 세트에 있는 모든 샘플에 대한 손실 함수의 합을 말한다.<br>\n",
    "하지만 보통 이 둘을 엄격히 구분하지 않고 섞어서 사용한다."
   ]
  },
  {
   "cell_type": "markdown",
   "id": "8d1adff5-3dee-4e2d-9517-c3b7261a59c8",
   "metadata": {},
   "source": [
    "#### 로지스틱 손실 함수"
   ]
  },
  {
   "cell_type": "markdown",
   "id": "1be9d549-a2b3-44b8-a5b3-c4f59c1499cf",
   "metadata": {},
   "source": [
    "- 이진분류 : 로지스틱 손실 함수 = 이진 크로스엔트로피 손실 함수(binary cross-entropy loss function)\n",
    "- 다중분류 : 크로스엔트로피 손실 함수(cross-entropy loss funciton)"
   ]
  },
  {
   "cell_type": "markdown",
   "id": "e640a524-6cc7-4b8a-ad6e-469e68bb5934",
   "metadata": {},
   "source": [
    "Q) 그럼 회귀에는 어떤 손실 함수를 사용할까?\n",
    "> 회귀의 손실 함수로 평균 제곱 오차(mean squared error; MSE) 또는 평균 절댓값 오차 등을 사용할 수 있다. "
   ]
  },
  {
   "cell_type": "markdown",
   "id": "f9774be1-965a-46a4-94b9-f774466cfdd1",
   "metadata": {},
   "source": [
    "### SGDClassifier \n",
    "\n",
    "확률적 경사 하강법 모델 만들기"
   ]
  },
  {
   "cell_type": "code",
   "execution_count": 1,
   "id": "26449018-bab6-4196-91a6-9bf80c788a24",
   "metadata": {},
   "outputs": [],
   "source": [
    "import pandas as pd\n",
    "\n",
    "fish = pd.read_csv(\"https://bit.ly/fish_csv_data\")"
   ]
  },
  {
   "cell_type": "code",
   "execution_count": 2,
   "id": "8ad6de25-1b6b-4f92-ac1a-1c9662960d1a",
   "metadata": {},
   "outputs": [],
   "source": [
    "fish_input = fish[[\"Weight\", \"Length\", \"Diagonal\", \"Height\", \"Width\"]].to_numpy()\n",
    "fish_target= fish[\"Species\"].to_numpy()"
   ]
  },
  {
   "cell_type": "code",
   "execution_count": 3,
   "id": "78b03ecd-a0ac-41b2-ab84-cea41482082c",
   "metadata": {},
   "outputs": [],
   "source": [
    "from sklearn.model_selection import train_test_split\n",
    "\n",
    "train_input, test_input, train_target, test_target = train_test_split(fish_input, fish_target, random_state=42)"
   ]
  },
  {
   "cell_type": "code",
   "execution_count": 5,
   "id": "6e02d466-d618-4986-bd24-2a63a48e5773",
   "metadata": {},
   "outputs": [],
   "source": [
    "from sklearn.preprocessing import StandardScaler\n",
    "\n",
    "ss = StandardScaler()\n",
    "ss.fit(train_input)\n",
    "train_scaled = ss.transform(train_input)\n",
    "test_scaled  = ss.transform(test_input)"
   ]
  },
  {
   "cell_type": "code",
   "execution_count": 6,
   "id": "884ae7d6-8dc8-44e4-8d08-12e1a1755064",
   "metadata": {},
   "outputs": [
    {
     "name": "stdout",
     "output_type": "stream",
     "text": [
      "0.773109243697479\n",
      "0.775\n"
     ]
    },
    {
     "name": "stderr",
     "output_type": "stream",
     "text": [
      "/home/usr01/.local/share/virtualenvs/hongong-QbFHym6F/lib/python3.11/site-packages/sklearn/linear_model/_stochastic_gradient.py:702: ConvergenceWarning: Maximum number of iteration reached before convergence. Consider increasing max_iter to improve the fit.\n",
      "  warnings.warn(\n"
     ]
    }
   ],
   "source": [
    "from sklearn.linear_model import SGDClassifier\n",
    "\n",
    "sc = SGDClassifier(loss=\"log_loss\", max_iter=10, random_state=42) # log_loss: 로지스틱 손실 함수\n",
    "\"\"\"\n",
    "  다중 분류일 경우 SGDClassifier에 loss=log_loss로 지정하면 클래스마다 이진 분류 모델을 만든다.\n",
    "  즉 도미는 양성 클래스로 두고 나머지는 음성 클래스로 두는 방식이다.\n",
    "  이런 방식을 OvR(One versus Rest)라고 부른다.\n",
    "\"\"\"\n",
    "\n",
    "sc.fit(train_scaled, train_target)\n",
    "print(sc.score(train_scaled, train_target))\n",
    "print(sc.score(test_scaled, test_target))"
   ]
  },
  {
   "cell_type": "code",
   "execution_count": 7,
   "id": "2915aee7-1750-449c-9f42-1a3f28e85561",
   "metadata": {},
   "outputs": [
    {
     "name": "stdout",
     "output_type": "stream",
     "text": [
      "0.8151260504201681\n",
      "0.85\n"
     ]
    }
   ],
   "source": [
    "\"\"\"\n",
    " sc 객체를 다시 만들지 않고 모델을 이어서 훈련하기\n",
    "\n",
    " 사용: partial_fit()\n",
    " \n",
    " 이는 호출할 때마다 1 에포크씩 이어서 훈련할 수 있다.\n",
    "\"\"\"\n",
    "\n",
    "sc.partial_fit(train_scaled, train_target)\n",
    "print(sc.score(train_scaled, train_target))\n",
    "print(sc.score(test_scaled, test_target))"
   ]
  },
  {
   "cell_type": "markdown",
   "id": "96cc2042-8799-490d-9050-231bc8303f25",
   "metadata": {},
   "source": [
    "### 에포크와 과대/과소적합\n",
    "\n",
    "에포크 횟수 동안에 훈련한 모델은 훈련 세트와 테스트 세트에 잘 맞지 않는 과소적합된 모델일 가능성이 높다.\n",
    "\n",
    "반대로 많은 에포크 횟수 동안에 훈련한 모델은 훈련 세트에 너무 잘 맞아 테스트 세트에는 오히려 점수가 나쁜 과대적합된 모델일 가능성이 높다.\n",
    "\n",
    "훈련 세트 점수는 에포크가 진행될수록 꾸준히 증가하지만 테스트 세트 점수는 어느 순간 감소한다. 바로 이 모델이 과대적합되기 시작하는 곳이다.\n",
    "\n",
    "이를 방지하기 위해 과대적합 시작 전 멈추는 것을 종기 종료(early stopping)이라고 한다."
   ]
  },
  {
   "cell_type": "code",
   "execution_count": 8,
   "id": "c8ba4ddc-8f21-4e5c-b2b0-23962b407c8d",
   "metadata": {},
   "outputs": [
    {
     "name": "stdout",
     "output_type": "stream",
     "text": [
      "['Bream' 'Parkki' 'Perch' 'Pike' 'Roach' 'Smelt' 'Whitefish']\n"
     ]
    }
   ],
   "source": [
    "import numpy as np\n",
    "\n",
    "sc = SGDClassifier(loss=\"log_loss\", random_state=42)\n",
    "train_score = []\n",
    "test_score  = []\n",
    "classes     = np.unique(train_target)\n",
    "print(classes)"
   ]
  },
  {
   "cell_type": "code",
   "execution_count": 11,
   "id": "2461759a-4742-481b-8c2a-833d216a84f0",
   "metadata": {},
   "outputs": [],
   "source": [
    "# 300번의 에포크 동안 훈련을 반복하여 진행\n",
    "# 반복마다 훈련 세트와 테스트 세트의 점수를 계산하여 저장\n",
    "\n",
    "for _ in range(0, 300):\n",
    "    sc.partial_fit(train_scaled, train_target, classes=classes)\n",
    "    train_score.append(sc.score(train_scaled, train_target))\n",
    "    test_score.append(sc.score(test_scaled, test_target))"
   ]
  },
  {
   "cell_type": "code",
   "execution_count": 12,
   "id": "b515d132-cb4b-4622-a653-2dfa5f71ed87",
   "metadata": {},
   "outputs": [
    {
     "data": {
      "image/png": "[encoded data removed]",
      "text/plain": [
       "<Figure size 640x480 with 1 Axes>"
      ]
     },
     "metadata": {},
     "output_type": "display_data"
    }
   ],
   "source": [
    "import matplotlib.pyplot as plt\n",
    "\n",
    "plt.plot(train_score)\n",
    "plt.plot(test_score)\n",
    "plt.xlabel(\"epoch\")\n",
    "plt.ylabel(\"accuracy\")\n",
    "plt.show()"
   ]
  },
  {
   "cell_type": "markdown",
   "id": "302e1aa6-2d61-4d61-8472-57e176ba810f",
   "metadata": {},
   "source": [
    "데이터가 작아 아주 잘 보이지는 않지만 약 100번째에서 훈련 세트와 테스트 세트가 벌어지기 시작한다."
   ]
  },
  {
   "cell_type": "code",
   "execution_count": 16,
   "id": "1e6b2366-84a6-496d-9ad9-4c96804d9baf",
   "metadata": {},
   "outputs": [
    {
     "data": {
      "text/html": [
       "<style>#sk-container-id-2 {color: black;background-color: white;}#sk-container-id-2 pre{padding: 0;}#sk-container-id-2 div.sk-toggleable {background-color: white;}#sk-container-id-2 label.sk-toggleable__label {cursor: pointer;display: block;width: 100%;margin-bottom: 0;padding: 0.3em;box-sizing: border-box;text-align: center;}#sk-container-id-2 label.sk-toggleable__label-arrow:before {content: \"▸\";float: left;margin-right: 0.25em;color: #696969;}#sk-container-id-2 label.sk-toggleable__label-arrow:hover:before {color: black;}#sk-container-id-2 div.sk-estimator:hover label.sk-toggleable__label-arrow:before {color: black;}#sk-container-id-2 div.sk-toggleable__content {max-height: 0;max-width: 0;overflow: hidden;text-align: left;background-color: #f0f8ff;}#sk-container-id-2 div.sk-toggleable__content pre {margin: 0.2em;color: black;border-radius: 0.25em;background-color: #f0f8ff;}#sk-container-id-2 input.sk-toggleable__control:checked~div.sk-toggleable__content {max-height: 200px;max-width: 100%;overflow: auto;}#sk-container-id-2 input.sk-toggleable__control:checked~label.sk-toggleable__label-arrow:before {content: \"▾\";}#sk-container-id-2 div.sk-estimator input.sk-toggleable__control:checked~label.sk-toggleable__label {background-color: #d4ebff;}#sk-container-id-2 div.sk-label input.sk-toggleable__control:checked~label.sk-toggleable__label {background-color: #d4ebff;}#sk-container-id-2 input.sk-hidden--visually {border: 0;clip: rect(1px 1px 1px 1px);clip: rect(1px, 1px, 1px, 1px);height: 1px;margin: -1px;overflow: hidden;padding: 0;position: absolute;width: 1px;}#sk-container-id-2 div.sk-estimator {font-family: monospace;background-color: #f0f8ff;border: 1px dotted black;border-radius: 0.25em;box-sizing: border-box;margin-bottom: 0.5em;}#sk-container-id-2 div.sk-estimator:hover {background-color: #d4ebff;}#sk-container-id-2 div.sk-parallel-item::after {content: \"\";width: 100%;border-bottom: 1px solid gray;flex-grow: 1;}#sk-container-id-2 div.sk-label:hover label.sk-toggleable__label {background-color: #d4ebff;}#sk-container-id-2 div.sk-serial::before {content: \"\";position: absolute;border-left: 1px solid gray;box-sizing: border-box;top: 0;bottom: 0;left: 50%;z-index: 0;}#sk-container-id-2 div.sk-serial {display: flex;flex-direction: column;align-items: center;background-color: white;padding-right: 0.2em;padding-left: 0.2em;position: relative;}#sk-container-id-2 div.sk-item {position: relative;z-index: 1;}#sk-container-id-2 div.sk-parallel {display: flex;align-items: stretch;justify-content: center;background-color: white;position: relative;}#sk-container-id-2 div.sk-item::before, #sk-container-id-2 div.sk-parallel-item::before {content: \"\";position: absolute;border-left: 1px solid gray;box-sizing: border-box;top: 0;bottom: 0;left: 50%;z-index: -1;}#sk-container-id-2 div.sk-parallel-item {display: flex;flex-direction: column;z-index: 1;position: relative;background-color: white;}#sk-container-id-2 div.sk-parallel-item:first-child::after {align-self: flex-end;width: 50%;}#sk-container-id-2 div.sk-parallel-item:last-child::after {align-self: flex-start;width: 50%;}#sk-container-id-2 div.sk-parallel-item:only-child::after {width: 0;}#sk-container-id-2 div.sk-dashed-wrapped {border: 1px dashed gray;margin: 0 0.4em 0.5em 0.4em;box-sizing: border-box;padding-bottom: 0.4em;background-color: white;}#sk-container-id-2 div.sk-label label {font-family: monospace;font-weight: bold;display: inline-block;line-height: 1.2em;}#sk-container-id-2 div.sk-label-container {text-align: center;}#sk-container-id-2 div.sk-container {/* jupyter's `normalize.less` sets `[hidden] { display: none; }` but bootstrap.min.css set `[hidden] { display: none !important; }` so we also need the `!important` here to be able to override the default hidden behavior on the sphinx rendered scikit-learn.org. See: https://github.com/scikit-learn/scikit-learn/issues/21755 */display: inline-block !important;position: relative;}#sk-container-id-2 div.sk-text-repr-fallback {display: none;}</style><div id=\"sk-container-id-2\" class=\"sk-top-container\"><div class=\"sk-text-repr-fallback\"><pre>SGDClassifier(loss=&#x27;log_loss&#x27;, max_iter=100, random_state=42, tol=None)</pre><b>In a Jupyter environment, please rerun this cell to show the HTML representation or trust the notebook. <br />On GitHub, the HTML representation is unable to render, please try loading this page with nbviewer.org.</b></div><div class=\"sk-container\" hidden><div class=\"sk-item\"><div class=\"sk-estimator sk-toggleable\"><input class=\"sk-toggleable__control sk-hidden--visually\" id=\"sk-estimator-id-2\" type=\"checkbox\" checked><label for=\"sk-estimator-id-2\" class=\"sk-toggleable__label sk-toggleable__label-arrow\">SGDClassifier</label><div class=\"sk-toggleable__content\"><pre>SGDClassifier(loss=&#x27;log_loss&#x27;, max_iter=100, random_state=42, tol=None)</pre></div></div></div></div></div>"
      ],
      "text/plain": [
       "SGDClassifier(loss='log_loss', max_iter=100, random_state=42, tol=None)"
      ]
     },
     "execution_count": 16,
     "metadata": {},
     "output_type": "execute_result"
    }
   ],
   "source": [
    "sc = SGDClassifier(loss=\"log_loss\", max_iter=100, tol=None, random_state=42) # SGD는 에포크 동안 성능이 향상되지 않으면 자동으로 멈추는데 tol이 그 기능을 한다.\n",
    "                                                                             # 여기서 None 모주건 100 번 수행하도록 설정한 것이다.\n",
    "sc.fit(train_scaled, train_target)"
   ]
  },
  {
   "cell_type": "code",
   "execution_count": 17,
   "id": "354fafcf-3714-4bd0-9da3-fdcb800d92ee",
   "metadata": {},
   "outputs": [
    {
     "name": "stdout",
     "output_type": "stream",
     "text": [
      "0.957983193277311\n",
      "0.925\n"
     ]
    }
   ],
   "source": [
    "print(sc.score(train_scaled, train_target))\n",
    "print(sc.score(test_scaled, test_target))"
   ]
  },
  {
   "cell_type": "markdown",
   "id": "9ef62979-0e0f-476b-8c86-06a0e20f290a",
   "metadata": {},
   "source": [
    "마무리 전에 \n",
    "\n",
    "SGDClassifier의 loss 매개변수의 기본값은 hinge 이다.\n",
    "\n",
    "힌지 손실(hinge loss)은 서포트 벡터 머신(support vector machine) 알고리즘을 위한 손실 함수이다."
   ]
  },
  {
   "cell_type": "code",
   "execution_count": 18,
   "id": "c3881903-428e-4802-955c-cbf20e97e5ed",
   "metadata": {},
   "outputs": [
    {
     "name": "stdout",
     "output_type": "stream",
     "text": [
      "0.9495798319327731\n",
      "0.925\n"
     ]
    }
   ],
   "source": [
    "sc = SGDClassifier(loss=\"hinge\", max_iter=100, tol=None, random_state=42)\n",
    "sc.fit(train_scaled, train_target)\n",
    "print(sc.score(train_scaled, train_target))\n",
    "print(sc.score(test_scaled, test_target))"
   ]
  },
  {
   "cell_type": "code",
   "execution_count": null,
   "id": "cd447a82-7f66-4d50-aa6d-9ea636f338a9",
   "metadata": {},
   "outputs": [],
   "source": []
  }
 ],
 "metadata": {
  "kernelspec": {
   "display_name": "Python 3 (ipykernel)",
   "language": "python",
   "name": "python3"
  },
  "language_info": {
   "codemirror_mode": {
    "name": "ipython",
    "version": 3
   },
   "file_extension": ".py",
   "mimetype": "text/x-python",
   "name": "python",
   "nbconvert_exporter": "python",
   "pygments_lexer": "ipython3",
   "version": "3.11.5"
  }
 },
 "nbformat": 4,
 "nbformat_minor": 5
}

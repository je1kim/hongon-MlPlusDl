{
 "cells": [
  {
   "cell_type": "markdown",
   "id": "2dc1c397-74e4-4b6c-9b6f-e9f31836881b",
   "metadata": {},
   "source": [
    "## 3.3 특성 공학과 규제\n",
    "\n",
    "목적: 여러 특성을 사용한 다중 회귀에 대해 배우고 사이킷런의 여러 도구를 사용해 봅니다. 복잡한 모델의 과대적합을 막기 위한 릿지와 라쏘 회귀를 배웁니다."
   ]
  },
  {
   "cell_type": "markdown",
   "id": "7415e43c-50e6-4ce0-a276-56ce8f319a4b",
   "metadata": {},
   "source": [
    "### 다중 회귀(Multiple Regresstion)\n",
    "\n",
    "다중 회귀은 여러 개의 특성을 사용한 선형 회귀 모델이다.<br>\n",
    "\n",
    "이번 예제는 농어의 길이 뿐만 아니라 농어의 높이와 두께도 함께 사용합니다. <br>\n",
    "\n",
    "이 예제에서는 이전처럼 3개 특성을 각각 제곱하여 추가한다. 거기다가 각 특성을 서로 곱해서 또 다른 특성을 만들 것이다.<br>\n",
    "즉, '농어 길이 X 높이'를 새로운 특성으로 만드는 것이다. <br>\n",
    "이렇게 기존 특성을 사용해 새로운 특성을 뽑아내는 작업을 <strong>특성 공학(Feature Engineering)</strong> 이라고 한다."
   ]
  },
  {
   "cell_type": "markdown",
   "id": "97640259-5938-4a79-a711-96dbb1749a00",
   "metadata": {},
   "source": [
    "#### 데이터 준비\n",
    "\n",
    "data: https://bit.ly/perch_csv_data"
   ]
  },
  {
   "cell_type": "code",
   "execution_count": 2,
   "id": "47ecffed-6550-4c35-aa43-510183e19f75",
   "metadata": {},
   "outputs": [
    {
     "name": "stdout",
     "output_type": "stream",
     "text": [
      "[[ 8.4   2.11  1.41]\n",
      " [13.7   3.53  2.  ]\n",
      " [15.    3.82  2.43]\n",
      " [16.2   4.59  2.63]\n",
      " [17.4   4.59  2.94]\n",
      " [18.    5.22  3.32]\n",
      " [18.7   5.2   3.12]\n",
      " [19.    5.64  3.05]\n",
      " [19.6   5.14  3.04]\n",
      " [20.    5.08  2.77]\n",
      " [21.    5.69  3.56]\n",
      " [21.    5.92  3.31]\n",
      " [21.    5.69  3.67]\n",
      " [21.3   6.38  3.53]\n",
      " [22.    6.11  3.41]\n",
      " [22.    5.64  3.52]\n",
      " [22.    6.11  3.52]\n",
      " [22.    5.88  3.52]\n",
      " [22.    5.52  4.  ]\n",
      " [22.5   5.86  3.62]\n",
      " [22.5   6.79  3.62]\n",
      " [22.7   5.95  3.63]\n",
      " [23.    5.22  3.63]\n",
      " [23.5   6.28  3.72]\n",
      " [24.    7.29  3.72]\n",
      " [24.    6.38  3.82]\n",
      " [24.6   6.73  4.17]\n",
      " [25.    6.44  3.68]\n",
      " [25.6   6.56  4.24]\n",
      " [26.5   7.17  4.14]\n",
      " [27.3   8.32  5.14]\n",
      " [27.5   7.17  4.34]\n",
      " [27.5   7.05  4.34]\n",
      " [27.5   7.28  4.57]\n",
      " [28.    7.82  4.2 ]\n",
      " [28.7   7.59  4.64]\n",
      " [30.    7.62  4.77]\n",
      " [32.8  10.03  6.02]\n",
      " [34.5  10.26  6.39]\n",
      " [35.   11.49  7.8 ]\n",
      " [36.5  10.88  6.86]\n",
      " [36.   10.61  6.74]\n",
      " [37.   10.84  6.26]\n",
      " [37.   10.57  6.37]\n",
      " [39.   11.14  7.49]\n",
      " [39.   11.14  6.  ]\n",
      " [39.   12.43  7.35]\n",
      " [40.   11.93  7.11]\n",
      " [40.   11.73  7.22]\n",
      " [40.   12.38  7.46]\n",
      " [40.   11.14  6.63]\n",
      " [42.   12.8   6.87]\n",
      " [43.   11.93  7.28]\n",
      " [43.   12.51  7.42]\n",
      " [43.5  12.6   8.14]\n",
      " [44.   12.49  7.6 ]]\n"
     ]
    }
   ],
   "source": [
    "import pandas as pd\n",
    "\n",
    "df         = pd.read_csv(\"https://bit.ly/perch_csv_data\")\n",
    "perch_full = df.to_numpy()\n",
    "print(perch_full)"
   ]
  },
  {
   "cell_type": "code",
   "execution_count": 3,
   "id": "eb7ed260-c3c0-4f00-9d1d-b2ffcca81eea",
   "metadata": {},
   "outputs": [],
   "source": [
    "import numpy as np\n",
    "\n",
    "perch_weight = np.array([5.9, 32.0, 40.0, 51.5, 70.0, 100.0, 78.0, 80.0, 85.0, 85.0, 110.0,\n",
    "       115.0, 125.0, 130.0, 120.0, 120.0, 130.0, 135.0, 110.0, 130.0,\n",
    "       150.0, 145.0, 150.0, 170.0, 225.0, 145.0, 188.0, 180.0, 197.0,\n",
    "       218.0, 300.0, 260.0, 265.0, 250.0, 250.0, 300.0, 320.0, 514.0,\n",
    "       556.0, 840.0, 685.0, 700.0, 700.0, 690.0, 900.0, 650.0, 820.0,\n",
    "       850.0, 900.0, 1015.0, 820.0, 1100.0, 1000.0, 1100.0, 1000.0,\n",
    "       1000.0])"
   ]
  },
  {
   "cell_type": "code",
   "execution_count": 5,
   "id": "613d2f81-164e-4b90-b8ad-d54210effe90",
   "metadata": {},
   "outputs": [],
   "source": [
    "from sklearn.model_selection import train_test_split\n",
    "\n",
    "train_input, test_input, train_target, test_target = train_test_split(perch_full, perch_weight, random_state=42)"
   ]
  },
  {
   "cell_type": "markdown",
   "id": "aca881b6-c1ab-4237-be37-4bdcc806f4c4",
   "metadata": {},
   "source": [
    "### 사이킷런의 변환기\n",
    "\n",
    "사이킷런은 특성을 만들거나 전처리하기 위한 다양한 클래스를 제공한다. 사이킷런에서는 이런 클래스를 <strong>변환기(transformer)</strong>라고 부른다.<br>\n",
    "\n",
    "사이킷런의 모델 클래스에 일관된 fit(), score(), predict() 메서드가 있는 것 처럼 변환기 클래스는 모두 fit(), transform() 메서드를 제공한다.\n",
    "\n",
    "*** note: 앞서 사용한 LinearRegression 같은 사이킷런 모델 클래스는 추정기(estimator) 라고 부른다."
   ]
  },
  {
   "cell_type": "code",
   "execution_count": 7,
   "id": "f2a9f30c-da85-4c9a-8f62-0f590d18e5a6",
   "metadata": {},
   "outputs": [],
   "source": [
    "# 변환기는 PolynomialFeatures 를 사용\n",
    "from sklearn.preprocessing import PolynomialFeatures"
   ]
  },
  {
   "cell_type": "code",
   "execution_count": 8,
   "id": "451c4b30-4586-4dfc-9a22-13f5b04cf97f",
   "metadata": {},
   "outputs": [
    {
     "data": {
      "text/plain": [
       "array([[1., 2., 3., 4., 6., 9.]])"
      ]
     },
     "execution_count": 8,
     "metadata": {},
     "output_type": "execute_result"
    }
   ],
   "source": [
    "poly = PolynomialFeatures()\n",
    "poly.fit([[2,3]])\n",
    "poly.transform([[2,3]])"
   ]
  },
  {
   "cell_type": "markdown",
   "id": "a14e4f2b-b01d-4e3c-baa2-d7ccfb748636",
   "metadata": {},
   "source": [
    "Q) transform 을 하기 전 꼭 fit을 해야 하는가?\n",
    ">훈련(fit)을 해야 변환(transform)이 가능하다. 사이킷런의 일관된 api 때문에 두 단계로 나뉘어져 있다. <br>\n",
    "두 메서드를 붙인 fit_transform 메서드도 있다."
   ]
  },
  {
   "cell_type": "markdown",
   "id": "dd1f3237-9cdb-434e-adca-038f0d1dcdc3",
   "metadata": {},
   "source": [
    "PolynomialFeatures 클래스는 기본적으롤 각 특성을 제곱한 항을 추가하고 특성끼리 서로 곱한 항을 추가한다. <br>\n",
    "2와 3을 각기 제곱한 4와 9가 추가되었고, 2와 3을 곱한 6이 추가 되었다. <br>\n",
    "1은 선형 방정식의 절편을 항상 값이 1인 특성과 곱해지는 계수가 있기 때문에 생긴다.<br>\n",
    "\n",
    "만일, include_bias=False 로 지정하면 1을 없을 것이다."
   ]
  },
  {
   "cell_type": "code",
   "execution_count": 10,
   "id": "f8ace4e3-8c54-4fb3-8d8a-af779e88bb77",
   "metadata": {},
   "outputs": [
    {
     "data": {
      "text/plain": [
       "array([[2., 3., 4., 6., 9.]])"
      ]
     },
     "execution_count": 10,
     "metadata": {},
     "output_type": "execute_result"
    }
   ],
   "source": [
    "poly = PolynomialFeatures(include_bias=False)\n",
    "poly.fit([[2,3]])\n",
    "poly.transform([[2,3]])"
   ]
  },
  {
   "cell_type": "markdown",
   "id": "84834ff9-d477-4600-a07f-f899e74a166f",
   "metadata": {},
   "source": [
    "Q) include_bias=False는 꼭 지정해야하는가?\n",
    "> include_bias=False로 지정하지 않아도 사이킷런 모델은 자동으로 특성에 추가된 절편 항을 무시합니다. 하지만 여기에서는 혼돈을 피하기 위해 명시적으로 지정했다."
   ]
  },
  {
   "cell_type": "code",
   "execution_count": 12,
   "id": "cadbfe99-9834-429a-934c-cff2c8543538",
   "metadata": {},
   "outputs": [
    {
     "name": "stdout",
     "output_type": "stream",
     "text": [
      "(42, 9)\n"
     ]
    }
   ],
   "source": [
    "poly = PolynomialFeatures(include_bias=False)\n",
    "poly.fit(train_input)\n",
    "train_poly = poly.transform(train_input)\n",
    "print(train_poly.shape)"
   ]
  },
  {
   "cell_type": "code",
   "execution_count": 13,
   "id": "df1f3bc0-ac3a-498a-9456-ff11bbee01bc",
   "metadata": {},
   "outputs": [
    {
     "data": {
      "text/plain": [
       "array(['x0', 'x1', 'x2', 'x0^2', 'x0 x1', 'x0 x2', 'x1^2', 'x1 x2',\n",
       "       'x2^2'], dtype=object)"
      ]
     },
     "execution_count": 13,
     "metadata": {},
     "output_type": "execute_result"
    }
   ],
   "source": [
    "\"\"\"\n",
    "  PolynomialFeatures 클래스 9개의 특성이 어떻게 만들어 졌는지 확인하는 아주 좋은 방법을 제시한다.\n",
    "  => get_feature_names_out()\n",
    "\"\"\"\n",
    "\n",
    "poly.get_feature_names_out()"
   ]
  },
  {
   "cell_type": "code",
   "execution_count": 18,
   "id": "9e8cc15b-5dda-48bd-847f-7b65b4bafedf",
   "metadata": {},
   "outputs": [],
   "source": [
    "test_poly = poly.transform(test_input)"
   ]
  },
  {
   "cell_type": "markdown",
   "id": "edfff5a1-ceef-4488-aa9a-39a190317ade",
   "metadata": {},
   "source": [
    "Q) 꼭 훈련세트에 적용했던 변환기로 테스트 세트를 변환해야 하는가?\n",
    "> PolynomialFeatures 클래스 fit() 메서드에서 만들 특성의 조합을 준비하기만 하고 별도의 통계 값을 구하지 않는다.<br>\n",
    "따라서 테스트 세트를 따로 변환해도 된다. 하지만 앞에 공부했던 것과 같이 훈련 세트를 기준으로 테스트세트를 변환하는 습관을 들이는 것이 좋다."
   ]
  },
  {
   "cell_type": "markdown",
   "id": "7bf83a58-3f99-46e1-b325-5d93eb81770a",
   "metadata": {},
   "source": [
    "### 다중 회기 모델 훈련하기\n",
    "\n",
    "(강조) 다중 회귀 모델을 훈련하는 것은 선형 회귀 모델을 훈련하는 것과 같다.<br>\n",
    "다만 여러 개의 특성을 사용하여 선형 회귀를 수행할 뿐이다."
   ]
  },
  {
   "cell_type": "code",
   "execution_count": 16,
   "id": "6837663b-4802-435a-8a6c-a6c86df86359",
   "metadata": {},
   "outputs": [
    {
     "name": "stdout",
     "output_type": "stream",
     "text": [
      "0.9903183436982124\n"
     ]
    }
   ],
   "source": [
    "from sklearn.linear_model import LinearRegression\n",
    "\n",
    "lr = LinearRegression()\n",
    "lr.fit(train_poly, train_target)\n",
    "print(lr.score(train_poly, train_target))"
   ]
  },
  {
   "cell_type": "code",
   "execution_count": 19,
   "id": "11405fa3-96bc-47f0-b962-d0eef1f43173",
   "metadata": {},
   "outputs": [
    {
     "name": "stdout",
     "output_type": "stream",
     "text": [
      "0.971455991159406\n"
     ]
    }
   ],
   "source": [
    "print(lr.score(test_poly, test_target))"
   ]
  },
  {
   "cell_type": "markdown",
   "id": "d773db04-c830-4dbd-aeb2-9a9db3708ad1",
   "metadata": {},
   "source": [
    "이전에 있던 과대/과소적합 문제가 해결되었고, 정확도도 높아졌다.<br>\n",
    "\n",
    "만일, 특성을 더 많이 추가하면 어떻게 될까? 3제곱, 4제곱항을 넣으면?<br>\n",
    "\n",
    "PolynomialFeatures 클래스의 degree 매개변수를 사용하여 필요한 고차한의 최대 차수를 지정할 수 있다.<br>"
   ]
  },
  {
   "cell_type": "code",
   "execution_count": 20,
   "id": "429eaa8c-149a-4654-809f-a5eac1e60bb9",
   "metadata": {},
   "outputs": [
    {
     "name": "stdout",
     "output_type": "stream",
     "text": [
      "(42, 55)\n"
     ]
    }
   ],
   "source": [
    "poly = PolynomialFeatures(degree=5, include_bias=False)\n",
    "poly.fit(train_input)\n",
    "train_poly = poly.transform(train_input)\n",
    "test_poly  = poly.transform(test_input)\n",
    "print(train_poly.shape)"
   ]
  },
  {
   "cell_type": "code",
   "execution_count": 21,
   "id": "5ff40218-4f50-4321-a1ab-153de217328d",
   "metadata": {},
   "outputs": [
    {
     "name": "stdout",
     "output_type": "stream",
     "text": [
      "0.9999999999998099\n"
     ]
    }
   ],
   "source": [
    "lr.fit(train_poly, train_target)\n",
    "print(lr.score(train_poly, train_target))"
   ]
  },
  {
   "cell_type": "code",
   "execution_count": 22,
   "id": "23fc0017-eafe-4b75-b291-ff23a3d6eaf7",
   "metadata": {},
   "outputs": [
    {
     "name": "stdout",
     "output_type": "stream",
     "text": [
      "-144.40606225090627\n"
     ]
    }
   ],
   "source": [
    "print(lr.score(test_poly, test_target))"
   ]
  },
  {
   "cell_type": "markdown",
   "id": "f9668f35-e063-4c2e-bf4c-04d5c63323a6",
   "metadata": {},
   "source": [
    "특성의 개수를 크게 늘리면 선형 모델은 아주 강력해진다. 훈련세트에 대해 거의 완벽하게 학습할 수 있다.<br>\n",
    "하지만 이런 모델은 훈련 세트에 너무 과대적합되므로 테스트세트에서는 형편없는 점수를 만든다. <br>\n",
    "\n",
    "이 문제를 해결하려면 다시 특성을 줄여야 한다. 하지만 이런 상황은 과대접합을 줄이는 또 다른 방법을 학습할 기회다."
   ]
  },
  {
   "cell_type": "markdown",
   "id": "933376e2-c88a-46f4-a6a7-dad358e1038c",
   "metadata": {},
   "source": [
    "### 규제\n",
    "\n",
    "<strong>규제(regularization)</strong>은 머신러닝 모델이 훈련 세트를 너무 과도하게 학습하지 못하도록 훼방하는 것을 말한다. 득 모델이 훈련 세트에 과대적합되지 않도록 만드는 것이다.<br>\n",
    "\n",
    "선형 회귀 모델의 경우 특성에 곱해지는 계수(또는 기울기)의 크기를 작게 만드는 일이다."
   ]
  },
  {
   "cell_type": "code",
   "execution_count": 29,
   "id": "f2c23198-6c81-48a5-9950-0b2a2d389cbb",
   "metadata": {},
   "outputs": [],
   "source": [
    "# 전처리: 정규화  \n",
    "\n",
    "from sklearn.preprocessing import StandardScaler\n",
    "\n",
    "ss = StandardScaler()\n",
    "ss.fit(train_poly)\n",
    "train_scaled = ss.transform(train_poly)\n",
    "test_scaled  = ss.transform(test_poly)"
   ]
  },
  {
   "cell_type": "code",
   "execution_count": 30,
   "id": "e0ec6d87-6b8a-42db-ab40-e49fa167864f",
   "metadata": {},
   "outputs": [
    {
     "name": "stdout",
     "output_type": "stream",
     "text": [
      "[2.84452381e+01 8.04238095e+00 4.82047619e+00 8.85315000e+02\n",
      " 2.53486881e+02 1.51959000e+02 7.29365000e+01 4.36999452e+01\n",
      " 2.62868381e+01 2.97326070e+04 8.59817581e+03 5.15200651e+03\n",
      " 2.49680043e+03 1.49567194e+03 8.99184494e+02 7.27945149e+02\n",
      " 4.36019840e+02 2.62115117e+02 1.58141990e+02 1.05917983e+06\n",
      " 3.08429517e+05 1.84644673e+05 9.01239554e+04 5.39478286e+04\n",
      " 3.23998082e+04 2.64224658e+04 1.58167367e+04 9.49991053e+03\n",
      " 5.72489005e+03 7.77162422e+03 4.65285399e+03 2.79521756e+03\n",
      " 1.68494739e+03 1.01911272e+03 3.93876111e+07 1.15192532e+07\n",
      " 6.88842737e+06 3.37865413e+06 2.02034307e+06 1.21184517e+06\n",
      " 9.93774754e+05 5.94291271e+05 3.56516573e+05 2.14541208e+05\n",
      " 2.93110780e+05 1.75313851e+05 1.05196649e+05 6.33244641e+04\n",
      " 3.82394901e+04 8.66870097e+04 5.18625239e+04 3.11308026e+04\n",
      " 1.87477065e+04 1.13270112e+04 6.86569419e+03] [8.72831196e+00 2.87343151e+00 1.74638123e+00 5.24782988e+02\n",
      " 1.60836428e+02 9.64793789e+01 4.95165749e+01 2.97578956e+01\n",
      " 1.81139412e+01 2.50155373e+04 7.49275582e+03 4.47153009e+03\n",
      " 2.25433695e+03 1.34683566e+03 8.11988865e+02 6.81265335e+02\n",
      " 4.07639942e+02 2.46263218e+02 1.50164227e+02 1.10854579e+06\n",
      " 3.28247889e+05 1.95342267e+05 9.76153931e+04 5.81064317e+04\n",
      " 3.48472685e+04 2.91591483e+04 1.73674986e+04 1.04273041e+04\n",
      " 6.30922253e+03 8.75059964e+03 5.21694989e+03 3.13701782e+03\n",
      " 1.90225250e+03 1.16311955e+03 4.77814865e+07 1.40483165e+07\n",
      " 8.34702250e+06 4.14736151e+06 2.46313653e+06 1.47240427e+06\n",
      " 1.22970655e+06 7.30196641e+05 4.36628701e+05 2.62841007e+05\n",
      " 3.66270535e+05 2.17518714e+05 1.30152823e+05 7.84482709e+04\n",
      " 4.76246733e+04 1.09609367e+05 6.51258832e+04 3.90090183e+04\n",
      " 2.35520992e+04 1.43325296e+04 8.79122582e+03]\n"
     ]
    }
   ],
   "source": [
    "print(ss.mean_, ss.scale_)"
   ]
  },
  {
   "cell_type": "markdown",
   "id": "afb7b950-c9a7-474c-b70e-8a8191d0b3f3",
   "metadata": {},
   "source": [
    "선형 회귀 모델에 규제를 추가한 모델을 <strong>릿지(Ridge)와 라쏘(Lasso)</strong>라고 부른다. <br>\n",
    "\n",
    "릿지는 계수를 제곱한 값을 기준으로 규제를 적용하고, <br>\n",
    "\n",
    "라쏘는 계수의 절댓값을 기준으로 규제를 적용한다. <br>\n",
    "\n",
    "일반적으로 릿지를 조금 더 선호한다. 두 알고리즘 모두 계수의 크기를 줄이지만 라쏘는 아예 0으로 만들 수 도 있다."
   ]
  },
  {
   "cell_type": "markdown",
   "id": "a025c928-517f-444c-8b38-3103dab854fb",
   "metadata": {},
   "source": [
    "### 릿지 회귀"
   ]
  },
  {
   "cell_type": "code",
   "execution_count": 31,
   "id": "76d43f75-14bf-4dcb-a621-f366b011830e",
   "metadata": {},
   "outputs": [
    {
     "name": "stdout",
     "output_type": "stream",
     "text": [
      "0.9896101671037343\n"
     ]
    }
   ],
   "source": [
    "from sklearn.linear_model import Ridge\n",
    "\n",
    "ridge = Ridge()\n",
    "ridge.fit(train_scaled, train_target)\n",
    "print(ridge.score(train_scaled, train_target))"
   ]
  },
  {
   "cell_type": "code",
   "execution_count": 32,
   "id": "d214eb00-30c0-44f5-9381-d0d86848c529",
   "metadata": {},
   "outputs": [
    {
     "name": "stdout",
     "output_type": "stream",
     "text": [
      "0.9790693977615391\n"
     ]
    }
   ],
   "source": [
    "print(ridge.score(test_scaled, test_target))"
   ]
  },
  {
   "cell_type": "markdown",
   "id": "b2aa6f3f-29a8-4275-979d-d28bc81efe93",
   "metadata": {},
   "source": [
    "테스트 세트 점수가 정상으로 돌아왔다. 확실히 많은 특성을 사용했음에도 불구하고 훈련 세트에 너무 과대적합되지 않아 테스트 세트에서도 좋은 성능을 내고 있다.<br>\n",
    "\n",
    "릿지와 라쏘 모델을 사용할 때 규제의 양을 임의로 조절할 수 있다. 모델 객체를 만들 때 alpha 매개변수로 규제의 강도를 조절한다.<br>\n",
    "\n",
    "alpha 값이 크면 규제 강도가 세지므로 계수 값을 더 줄이고 조금 더 과소접합되도록 유도한다. alpha 값이 작으면 계수를 줄이는 역할이 줄어들고 선형 회귀 모델과 유사해지므로 과대적합될 가능성이 커진다."
   ]
  },
  {
   "cell_type": "markdown",
   "id": "7103af4b-bc18-4c0c-bebb-dfc674eb610a",
   "metadata": {},
   "source": [
    "Q) 사람이 직접 지정해야 하는 매개변수\n",
    "> alpha 값은 릿지 모델이 학습하는 값이 아니라 사전에 우리가 지정해야하는 값이다. 이렇게 머신런닝 모델이 학습할 수 없고 사람이 알려줘야 하는 파라미터를 <strong>하이퍼파라미터(hyperparameter)</strong>라고 부른다."
   ]
  },
  {
   "cell_type": "code",
   "execution_count": 35,
   "id": "5751c907-dfc4-42a2-aa1e-fa6a1b589024",
   "metadata": {},
   "outputs": [],
   "source": [
    "\"\"\"\n",
    "\n",
    "  적절한 alpha 값을 찾는 한 가지 방법은 alpha 값에 대한 R^2 값의 그래프를 그려보는 것이다.\n",
    "  훈련 세트와 테스트 세트의 점수가 가장 가까운 지점이 최적의 alpha 값이 된다.\n",
    "\n",
    "\"\"\"\n",
    "\n",
    "import matplotlib.pyplot as plt\n",
    "train_score = []\n",
    "test_score  = []\n",
    "\n",
    "# alpha 0.001~100까지 10배씩 늘려가며 릿지 회귀 모델을 훈련한 다음 점수를 저장하고 그림 그리기\n",
    "alpha_list  = [0.001, 0.01, 0.1, 1, 10, 100]\n",
    "for alpha in alpha_list:\n",
    "    ridge   = Ridge(alpha=alpha)\n",
    "    ridge.fit(train_scaled, train_target)\n",
    "    train_score.append(ridge.score(train_scaled, train_target))\n",
    "    test_score.append(ridge.score(test_scaled, test_target))"
   ]
  },
  {
   "cell_type": "code",
   "execution_count": 37,
   "id": "d233c349-a629-4567-80fd-cf2a8ac58084",
   "metadata": {},
   "outputs": [
    {
     "data": {
      "image/png": "[encoded data removed]",
      "text/plain": [
       "<Figure size 640x480 with 1 Axes>"
      ]
     },
     "metadata": {},
     "output_type": "display_data"
    }
   ],
   "source": [
    "plt.plot(np.log10(alpha_list), train_score, label=\"train-set\")\n",
    "plt.plot(np.log10(alpha_list), test_score, label=\"test-set\")\n",
    "plt.xlabel(\"alpha\")\n",
    "plt.ylabel(\"R^2\")\n",
    "plt.legend()\n",
    "plt.show()"
   ]
  },
  {
   "cell_type": "code",
   "execution_count": 39,
   "id": "c2f6f929-6177-47b5-a5f5-a4ea2415e4e1",
   "metadata": {},
   "outputs": [
    {
     "name": "stdout",
     "output_type": "stream",
     "text": [
      "0.9903815817570367\n",
      "0.9827976465386918\n"
     ]
    }
   ],
   "source": [
    "ridge = Ridge(alpha=0.1)  # 10 ^ -1\n",
    "ridge.fit(train_scaled, train_target)\n",
    "print(ridge.score(train_scaled, train_target))\n",
    "print(ridge.score(test_scaled, test_target))"
   ]
  },
  {
   "cell_type": "markdown",
   "id": "572fdf7f-30dd-4503-9279-e06fee6d0a98",
   "metadata": {},
   "source": [
    "### 라쏘 회귀"
   ]
  },
  {
   "cell_type": "code",
   "execution_count": 40,
   "id": "f8378efc-4d26-4193-8a61-7a1fb6fe8a27",
   "metadata": {},
   "outputs": [
    {
     "data": {
      "text/plain": [
       "0.989789897208096"
      ]
     },
     "execution_count": 40,
     "metadata": {},
     "output_type": "execute_result"
    }
   ],
   "source": [
    "from sklearn.linear_model import Lasso\n",
    "\n",
    "lasso = Lasso()\n",
    "lasso.fit(train_scaled, train_target)\n",
    "lasso.score(train_scaled, train_target)"
   ]
  },
  {
   "cell_type": "code",
   "execution_count": 41,
   "id": "ae7405cd-3acd-47a0-9c95-a7c5841bc0b0",
   "metadata": {},
   "outputs": [
    {
     "data": {
      "text/plain": [
       "0.9800593698421884"
      ]
     },
     "execution_count": 41,
     "metadata": {},
     "output_type": "execute_result"
    }
   ],
   "source": [
    "lasso.score(test_scaled, test_target)"
   ]
  },
  {
   "cell_type": "code",
   "execution_count": 43,
   "id": "f962aab0-a528-47b8-9869-bb30a380ea84",
   "metadata": {},
   "outputs": [
    {
     "name": "stderr",
     "output_type": "stream",
     "text": [
      "/home/usr01/.local/share/virtualenvs/hongong-QbFHym6F/lib/python3.11/site-packages/sklearn/linear_model/_coordinate_descent.py:631: ConvergenceWarning: Objective did not converge. You might want to increase the number of iterations, check the scale of the features or consider increasing regularisation. Duality gap: 1.878e+04, tolerance: 5.183e+02\n",
      "  model = cd_fast.enet_coordinate_descent(\n",
      "/home/usr01/.local/share/virtualenvs/hongong-QbFHym6F/lib/python3.11/site-packages/sklearn/linear_model/_coordinate_descent.py:631: ConvergenceWarning: Objective did not converge. You might want to increase the number of iterations, check the scale of the features or consider increasing regularisation. Duality gap: 1.297e+04, tolerance: 5.183e+02\n",
      "  model = cd_fast.enet_coordinate_descent(\n"
     ]
    }
   ],
   "source": [
    "train_score = []\n",
    "test_score  = []\n",
    "\n",
    "# alpha 0.001~100까지 10배씩 늘려가며 라쏘 회귀 모델을 훈련한 다음 점수를 저장하고 그림 그리기\n",
    "alpha_list  = [0.001, 0.01, 0.1, 1, 10, 100]\n",
    "for alpha in alpha_list:\n",
    "    lasso   = Lasso(alpha=alpha, max_iter=10000)\n",
    "    lasso.fit(train_scaled, train_target)\n",
    "    train_score.append(lasso.score(train_scaled, train_target))\n",
    "    test_score.append(lasso.score(test_scaled, test_target))"
   ]
  },
  {
   "cell_type": "code",
   "execution_count": 44,
   "id": "d8b1ccf1-3def-481b-b30e-cdd32f596cd7",
   "metadata": {},
   "outputs": [
    {
     "data": {
      "image/png": "[encoded data removed]",
      "text/plain": [
       "<Figure size 640x480 with 1 Axes>"
      ]
     },
     "metadata": {},
     "output_type": "display_data"
    }
   ],
   "source": [
    "plt.plot(np.log10(alpha_list), train_score, label=\"train-set\")\n",
    "plt.plot(np.log10(alpha_list), test_score, label=\"test-set\")\n",
    "plt.xlabel(\"alpha\")\n",
    "plt.ylabel(\"R^2\")\n",
    "plt.legend()\n",
    "plt.show()"
   ]
  },
  {
   "cell_type": "code",
   "execution_count": 46,
   "id": "90e0a946-f1a0-4119-a94c-f4cafdfb40e1",
   "metadata": {},
   "outputs": [
    {
     "name": "stdout",
     "output_type": "stream",
     "text": [
      "0.9888067471131866\n",
      "0.9824470598706695\n"
     ]
    }
   ],
   "source": [
    "lasso = Lasso(alpha=10) # 10 ^ 1\n",
    "lasso.fit(train_scaled, train_target)\n",
    "print(lasso.score(train_scaled, train_target))\n",
    "print(lasso.score(test_scaled, test_target))"
   ]
  },
  {
   "cell_type": "code",
   "execution_count": 47,
   "id": "abf92401-eb45-4726-a2ad-7e7d4269c565",
   "metadata": {},
   "outputs": [
    {
     "data": {
      "text/plain": [
       "40"
      ]
     },
     "execution_count": 47,
     "metadata": {},
     "output_type": "execute_result"
    }
   ],
   "source": [
    "np.sum(lasso.coef_ == 0)"
   ]
  },
  {
   "cell_type": "code",
   "execution_count": null,
   "id": "005a2544-7373-4329-8741-066046d96bfe",
   "metadata": {},
   "outputs": [],
   "source": []
  }
 ],
 "metadata": {
  "kernelspec": {
   "display_name": "Python 3 (ipykernel)",
   "language": "python",
   "name": "python3"
  },
  "language_info": {
   "codemirror_mode": {
    "name": "ipython",
    "version": 3
   },
   "file_extension": ".py",
   "mimetype": "text/x-python",
   "name": "python",
   "nbconvert_exporter": "python",
   "pygments_lexer": "ipython3",
   "version": "3.11.5"
  }
 },
 "nbformat": 4,
 "nbformat_minor": 5
}
